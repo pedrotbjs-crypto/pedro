{
  "nbformat": 4,
  "nbformat_minor": 0,
  "metadata": {
    "colab": {
      "provenance": [],
      "authorship_tag": "ABX9TyO5owHLIn/UcgPCRJN8MlgV",
      "include_colab_link": true
    },
    "kernelspec": {
      "name": "python3",
      "display_name": "Python 3"
    },
    "language_info": {
      "name": "python"
    }
  },
  "cells": [
    {
      "cell_type": "markdown",
      "metadata": {
        "id": "view-in-github",
        "colab_type": "text"
      },
      "source": [
        "<a href=\"https://colab.research.google.com/github/pedrotbjs-crypto/pedro/blob/main/pertemuan_2.ipynb\" target=\"_parent\"><img src=\"https://colab.research.google.com/assets/colab-badge.svg\" alt=\"Open In Colab\"/></a>"
      ]
    },
    {
      "cell_type": "code",
      "execution_count": 3,
      "metadata": {
        "colab": {
          "base_uri": "https://localhost:8080/"
        },
        "id": "ssNX7zgOMqOS",
        "outputId": "c7627fd4-cea8-4fff-c54f-6436daa55532"
      },
      "outputs": [
        {
          "output_type": "stream",
          "name": "stdout",
          "text": [
            "43\n",
            "15\n",
            "34\n",
            "23\n"
          ]
        }
      ],
      "source": [
        "# deklarasi variabel list\n",
        "numbers = [23, 43, 15, 34]\n",
        "# cara mengakses elemen dalam variabel list\n",
        "numbers [0]  # 23\n",
        "numbers [1]  # 43\n",
        "numbers [2]  # 15\n",
        "numbers [3]  # 34\n",
        "# cara mengubah elemen dalam variabel list\n",
        "numbers[2] # 51\n",
        "numbers[2] # 51\n",
        "\n",
        "print (numbers[1])\n",
        "print (numbers[2])\n",
        "print (numbers[3])\n",
        "print (numbers[0])"
      ]
    },
    {
      "cell_type": "code",
      "source": [
        "# deklarasi variabel list number\n",
        "numbers = [1, 2, 3]\n",
        "\n",
        "# menambahkan elemen di indeks ke-4\n",
        "numbers.insert(4, 5)   # [1, 2, 3, 5]\n",
        "\n",
        "# mengubah elemen di indeks ke-4\n",
        "numbers[3] = 4  #[1, 2, 3, 4]\n",
        "\n",
        "# menghapus elemen di indeks ke-2\n",
        "numbers.pop(2)  #[1, 2, 4]\n",
        "\n",
        "#print"
      ],
      "metadata": {
        "colab": {
          "base_uri": "https://localhost:8080/"
        },
        "collapsed": true,
        "id": "vKsprKzeZRpr",
        "outputId": "85af03b3-8968-4999-a910-803b65a9b812"
      },
      "execution_count": 4,
      "outputs": [
        {
          "output_type": "execute_result",
          "data": {
            "text/plain": [
              "3"
            ]
          },
          "metadata": {},
          "execution_count": 4
        }
      ]
    },
    {
      "cell_type": "code",
      "source": [],
      "metadata": {
        "id": "xdTea8uxBcQN"
      },
      "execution_count": null,
      "outputs": []
    }
  ]
}