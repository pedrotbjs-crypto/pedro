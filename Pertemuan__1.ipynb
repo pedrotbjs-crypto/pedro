{
  "nbformat": 4,
  "nbformat_minor": 0,
  "metadata": {
    "colab": {
      "provenance": [],
      "authorship_tag": "ABX9TyPHx8VZpgJ/H/6Dv4G1jgF+",
      "include_colab_link": true
    },
    "kernelspec": {
      "name": "python3",
      "display_name": "Python 3"
    },
    "language_info": {
      "name": "python"
    }
  },
  "cells": [
    {
      "cell_type": "markdown",
      "metadata": {
        "id": "view-in-github",
        "colab_type": "text"
      },
      "source": [
        "<a href=\"https://colab.research.google.com/github/pedrotbjs-crypto/pedro/blob/main/Pertemuan__1.ipynb\" target=\"_parent\"><img src=\"https://colab.research.google.com/assets/colab-badge.svg\" alt=\"Open In Colab\"/></a>"
      ]
    },
    {
      "cell_type": "code",
      "execution_count": null,
      "metadata": {
        "colab": {
          "base_uri": "https://localhost:8080/"
        },
        "id": "NdPitz_US9vy",
        "outputId": "f96d41bf-c9dc-4c1d-ddc4-ed56d12efed6"
      },
      "outputs": [
        {
          "output_type": "stream",
          "name": "stdout",
          "text": [
            "Pedro\n",
            "20\n",
            "RPE\n",
            "3\n",
            "Pemerograman Dasar\n",
            "False\n",
            "Olahraga\n",
            "Sman 17 Batam\n",
            "Batam\n"
          ]
        }
      ],
      "source": [
        "# Biodata Saya\n",
        "\n",
        "nama = \"Pedro\"\n",
        "umur =  20\n",
        "jurusan = \"RPE\"\n",
        "semester = 3\n",
        "matakuliah = 'Pemerograman Dasar'\n",
        "status_lulus = False\n",
        "hobi = 'Olahraga'\n",
        "alumni = \"Sman 17 Batam\"\n",
        "asal = \"Batam\"\n",
        "\n",
        "\n",
        "print (nama)\n",
        "print (umur)\n",
        "print (jurusan)\n",
        "print (semester)\n",
        "print (matakuliah)\n",
        "print (status_lulus)\n",
        "print (hobi)\n",
        "print (alumni)\n",
        "print (asal)\n",
        "\n"
      ]
    },
    {
      "cell_type": "markdown",
      "source": [
        "*ini biodata saya*"
      ],
      "metadata": {
        "id": "Nav_6HoRXjib"
      }
    },
    {
      "cell_type": "code",
      "source": [],
      "metadata": {
        "id": "KkWGkPzVX2Va"
      },
      "execution_count": null,
      "outputs": []
    }
  ]
}