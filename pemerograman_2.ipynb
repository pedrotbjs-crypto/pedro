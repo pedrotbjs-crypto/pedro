{
  "nbformat": 4,
  "nbformat_minor": 0,
  "metadata": {
    "colab": {
      "provenance": [],
      "authorship_tag": "ABX9TyNQCaw4LiHYgMULQEHYM2oO",
      "include_colab_link": true
    },
    "kernelspec": {
      "name": "python3",
      "display_name": "Python 3"
    },
    "language_info": {
      "name": "python"
    }
  },
  "cells": [
    {
      "cell_type": "markdown",
      "metadata": {
        "id": "view-in-github",
        "colab_type": "text"
      },
      "source": [
        "<a href=\"https://colab.research.google.com/github/pedrotbjs-crypto/pedro/blob/main/pemerograman_2.ipynb\" target=\"_parent\"><img src=\"https://colab.research.google.com/assets/colab-badge.svg\" alt=\"Open In Colab\"/></a>"
      ]
    },
    {
      "cell_type": "code",
      "execution_count": 6,
      "metadata": {
        "colab": {
          "base_uri": "https://localhost:8080/"
        },
        "id": "_Nho2KreCuPF",
        "outputId": "2c1b44f8-11d7-4fbb-d008-5b030b09803b"
      },
      "outputs": [
        {
          "output_type": "stream",
          "name": "stdout",
          "text": [
            "=== Variabel Dasar ===\n",
            "First Name: Pedro\n",
            "Last Name: Hutabarat\n",
            "Age: 20\n",
            "Is Married: False\n"
          ]
        }
      ],
      "source": [
        "# 1. Variabel Dasar\n",
        "firstName = \"Pedro\"\n",
        "lastName = \"Hutabarat\"\n",
        "age = 20\n",
        "isMarried = False\n",
        "\n",
        "print(\"=== Variabel Dasar ===\")\n",
        "print(\"First Name:\", firstName)\n",
        "print(\"Last Name:\", lastName)\n",
        "print(\"Age:\", age)\n",
        "print(\"Is Married:\", isMarried)\n"
      ]
    },
    {
      "cell_type": "code",
      "source": [
        "# 2. Dictionary (Data Diri)\n",
        "data_diri = {\n",
        "    \"firstName\": \"Pedro\",\n",
        "    \"lastName\": \"Hutabarat\",\n",
        "    \"age\": 20,\n",
        "    \"isMarried\": False\n",
        "}\n",
        "\n",
        "print(\"=== Dictionary Data Diri ===\")\n",
        "print(data_diri)\n"
      ],
      "metadata": {
        "colab": {
          "base_uri": "https://localhost:8080/"
        },
        "id": "ZB2Jxjs5Df-C",
        "outputId": "4f10933c-5d04-40c6-ee13-4c737eab1e4b"
      },
      "execution_count": 7,
      "outputs": [
        {
          "output_type": "stream",
          "name": "stdout",
          "text": [
            "=== Dictionary Data Diri ===\n",
            "{'firstName': 'Pedro', 'lastName': 'Hutabarat', 'age': 20, 'isMarried': False}\n"
          ]
        }
      ]
    },
    {
      "cell_type": "code",
      "source": [
        "# 3. List (Daftar Inspeksi)\n",
        "inspeksi = [\n",
        "    \"pemahaman terhadap rencana dan desain\",\n",
        "    \"ketersediaan bahan dan peralatan\",\n",
        "    \"pengawasan pekerjaan\",\n",
        "    \"kualitas konstruksi\",\n",
        "    \"keselamatan kerja\",\n",
        "    \"koordinasi dengan pemilik proyek\"\n",
        "]\n",
        "\n",
        "print(\"=== List Inspeksi ===\")\n",
        "for item in inspeksi:\n",
        "    print(\"-\", item)\n",
        "print()\n"
      ],
      "metadata": {
        "colab": {
          "base_uri": "https://localhost:8080/"
        },
        "id": "Jx8QvwXIDym7",
        "outputId": "b6c10c1e-ff1a-42c8-b7f4-7474569c9428"
      },
      "execution_count": 8,
      "outputs": [
        {
          "output_type": "stream",
          "name": "stdout",
          "text": [
            "=== List Inspeksi ===\n",
            "- pemahaman terhadap rencana dan desain\n",
            "- ketersediaan bahan dan peralatan\n",
            "- pengawasan pekerjaan\n",
            "- kualitas konstruksi\n",
            "- keselamatan kerja\n",
            "- koordinasi dengan pemilik proyek\n",
            "\n"
          ]
        }
      ]
    },
    {
      "cell_type": "code",
      "source": [
        "# 4. Dictionary (Waktu Datang & Pulang)\n",
        "startTime = {\n",
        "    \"HH\": 9,\n",
        "    \"mm\": 23,\n",
        "    \"ss\": 57\n",
        "}\n",
        "\n",
        "endTime = {\n",
        "    \"HH\": 15,\n",
        "    \"mm\": 25,\n",
        "    \"ss\": 43\n",
        "}\n",
        "\n",
        "print(\"=== Waktu Datang & Pulang ===\")\n",
        "print(\"Start Time:\", startTime)\n",
        "print(\"End Time:\", endTime)\n",
        "print()\n"
      ],
      "metadata": {
        "colab": {
          "base_uri": "https://localhost:8080/"
        },
        "id": "TmLcn7jRD-nK",
        "outputId": "f6a4f733-d72a-4a55-ef2e-5e785a3b1dcb"
      },
      "execution_count": 9,
      "outputs": [
        {
          "output_type": "stream",
          "name": "stdout",
          "text": [
            "=== Waktu Datang & Pulang ===\n",
            "Start Time: {'HH': 9, 'mm': 23, 'ss': 57}\n",
            "End Time: {'HH': 15, 'mm': 25, 'ss': 43}\n",
            "\n"
          ]
        }
      ]
    },
    {
      "cell_type": "code",
      "source": [
        "# 5. Set & Tuple (Katalog Produk)\n",
        "katalog_A = {\"lays\", \"chitato\", \"chips\"}\n",
        "katalog_B = {\"nescafe\", \"good day\", \"milo\"}\n",
        "produk_diskon = (\"lays\", \"milo\")\n",
        "\n",
        "# gabungkan jadi satu set\n",
        "katalog_lengkap = katalog_A.union(katalog_B)\n",
        "\n",
        "# cari produk promo aktif\n",
        "produk_promo_aktif = katalog_lengkap.intersection(produk_diskon)\n",
        "\n",
        "print(\"=== Katalog Produk ===\")\n",
        "print(\"Katalog A:\", katalog_A)\n",
        "print(\"Katalog B:\", katalog_B)\n",
        "print(\"Katalog Lengkap:\", katalog_lengkap)\n",
        "print(\"Produk Diskon:\", produk_diskon)\n",
        "print(\"Produk Promo Aktif:\", produk_promo_aktif)"
      ],
      "metadata": {
        "colab": {
          "base_uri": "https://localhost:8080/"
        },
        "id": "QFtr6GujEE5d",
        "outputId": "89c4cb1f-d31a-4cd0-aa4f-dbf05d8246f5"
      },
      "execution_count": 10,
      "outputs": [
        {
          "output_type": "stream",
          "name": "stdout",
          "text": [
            "=== Katalog Produk ===\n",
            "Katalog A: {'chips', 'lays', 'chitato'}\n",
            "Katalog B: {'good day', 'milo', 'nescafe'}\n",
            "Katalog Lengkap: {'chips', 'chitato', 'good day', 'nescafe', 'lays', 'milo'}\n",
            "Produk Diskon: ('lays', 'milo')\n",
            "Produk Promo Aktif: {'lays', 'milo'}\n"
          ]
        }
      ]
    }
  ]
}