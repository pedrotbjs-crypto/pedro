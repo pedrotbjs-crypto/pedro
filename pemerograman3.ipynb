{
  "nbformat": 4,
  "nbformat_minor": 0,
  "metadata": {
    "colab": {
      "provenance": [],
      "authorship_tag": "ABX9TyPDHlroASkusvL+TDv6Ebnz",
      "include_colab_link": true
    },
    "kernelspec": {
      "name": "python3",
      "display_name": "Python 3"
    },
    "language_info": {
      "name": "python"
    }
  },
  "cells": [
    {
      "cell_type": "markdown",
      "metadata": {
        "id": "view-in-github",
        "colab_type": "text"
      },
      "source": [
        "<a href=\"https://colab.research.google.com/github/pedrotbjs-crypto/pedro/blob/main/pemerograman3.ipynb\" target=\"_parent\"><img src=\"https://colab.research.google.com/assets/colab-badge.svg\" alt=\"Open In Colab\"/></a>"
      ]
    },
    {
      "cell_type": "code",
      "execution_count": 2,
      "metadata": {
        "colab": {
          "base_uri": "https://localhost:8080/"
        },
        "id": "RkXSgG8r9Xbq",
        "outputId": "48f2f3c3-b91b-4aaf-eded-92570f21aef6"
      },
      "outputs": [
        {
          "output_type": "stream",
          "name": "stdout",
          "text": [
            "===== Struk Belanja =====\n",
            "Subtotal        : Rp 125000\n",
            "Diskon          : Rp 18750.0\n",
            "Harga Setelah Diskon : Rp 106250.0\n",
            "PPN (11%)       : Rp 11687.5\n",
            "Total Akhir     : Rp 117937.5\n"
          ]
        }
      ],
      "source": [
        "# Program Kasir Sederhana\n",
        "# Nama : Pedro Ananda H\n",
        "# NIM  : 4232411054\n",
        "\n",
        "# Input data belanja (harga tiap item dalam list)\n",
        "items = [25000, 30000, 70000]   # contoh harga beberapa item\n",
        "member = True                   # status member (True = anggota, False = bukan anggota)\n",
        "\n",
        "# 1. Hitung subtotal\n",
        "subtotal = sum(items)\n",
        "\n",
        "# 2. Cek syarat diskon (member dan subtotal > 100.000)\n",
        "if member and subtotal > 100000:\n",
        "    diskon = 0.15 * subtotal\n",
        "else:\n",
        "    diskon = 0\n",
        "\n",
        "# 3. Hitung harga setelah diskon\n",
        "harga_setelah_diskon = subtotal - diskon\n",
        "\n",
        "# 4. Hitung PPN (11% dari harga setelah diskon)\n",
        "ppn = 0.11 * harga_setelah_diskon\n",
        "\n",
        "# 5. Hitung total akhir\n",
        "total_akhir = harga_setelah_diskon + ppn\n",
        "\n",
        "# Output hasil\n",
        "print(\"===== Struk Belanja =====\")\n",
        "print(\"Subtotal        : Rp\", subtotal)\n",
        "print(\"Diskon          : Rp\", diskon)\n",
        "print(\"Harga Setelah Diskon : Rp\", harga_setelah_diskon)\n",
        "print(\"PPN (11%)       : Rp\", ppn)\n",
        "print(\"Total Akhir     : Rp\", total_akhir)\n"
      ]
    }
  ]
}